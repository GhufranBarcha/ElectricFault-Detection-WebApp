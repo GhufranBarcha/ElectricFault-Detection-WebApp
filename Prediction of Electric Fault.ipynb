{
 "cells": [
  {
   "cell_type": "markdown",
   "id": "c31ffc31",
   "metadata": {},
   "source": [
    "# Import necessary libraries"
   ]
  },
  {
   "cell_type": "code",
   "execution_count": 101,
   "id": "443f0426",
   "metadata": {},
   "outputs": [],
   "source": [
    "import numpy as np\n",
    "import pandas as pd\n",
    "import matplotlib.pyplot as plt\n",
    "import seaborn as sns\n",
    "import os"
   ]
  },
  {
   "cell_type": "markdown",
   "id": "91e7a13c",
   "metadata": {},
   "source": [
    "# Data Preparation "
   ]
  },
  {
   "cell_type": "code",
   "execution_count": 45,
   "id": "b78a3f4f",
   "metadata": {},
   "outputs": [
    {
     "data": {
      "text/plain": [
       "['modified_ball_fault',\n",
       " 'modified_healthy',\n",
       " 'modified_inner_race_faullt',\n",
       " 'modified_outer_race_fault']"
      ]
     },
     "execution_count": 45,
     "metadata": {},
     "output_type": "execute_result"
    }
   ],
   "source": [
    "folderPath = os.listdir(\"./online/\")\n",
    "folderPath"
   ]
  },
  {
   "cell_type": "code",
   "execution_count": 46,
   "id": "2c5a6093",
   "metadata": {},
   "outputs": [
    {
     "name": "stdout",
     "output_type": "stream",
     "text": [
      "modified_ball_fault\n",
      "modified_healthy\n",
      "modified_inner_race_faullt\n",
      "modified_outer_race_fault\n"
     ]
    }
   ],
   "source": [
    "## Create a DataFrame containing all the excel files with a target column\n",
    "\n",
    "main_df = pd.DataFrame()\n",
    "for mainpath in os.listdir(\"./online/\"):\n",
    "    path1 = os.path.join(\"./online/\",mainpath)\n",
    "    print(mainpath)\n",
    "    for path in os.listdir(path1):\n",
    "        path2 = os.path.join(path1,path)\n",
    "#         print(path2)\n",
    "        df = pd.read_excel(path2)\n",
    "        df[\"target\"] = mainpath\n",
    "        main_df = pd.concat((main_df,df) ,axis = 0)"
   ]
  },
  {
   "cell_type": "code",
   "execution_count": 82,
   "id": "5d4ee5f4",
   "metadata": {},
   "outputs": [],
   "source": [
    "## Save the file in main_df csv file\n",
    "main_df.to_csv(\"./main_df_excel.csv\",index = False)"
   ]
  },
  {
   "cell_type": "markdown",
   "id": "ee4d9be2",
   "metadata": {},
   "source": [
    "\n",
    "## Read the Data"
   ]
  },
  {
   "cell_type": "code",
   "execution_count": 102,
   "id": "c9ec499d",
   "metadata": {},
   "outputs": [
    {
     "data": {
      "text/html": [
       "<div>\n",
       "<style scoped>\n",
       "    .dataframe tbody tr th:only-of-type {\n",
       "        vertical-align: middle;\n",
       "    }\n",
       "\n",
       "    .dataframe tbody tr th {\n",
       "        vertical-align: top;\n",
       "    }\n",
       "\n",
       "    .dataframe thead th {\n",
       "        text-align: right;\n",
       "    }\n",
       "</style>\n",
       "<table border=\"1\" class=\"dataframe\">\n",
       "  <thead>\n",
       "    <tr style=\"text-align: right;\">\n",
       "      <th></th>\n",
       "      <th>Time</th>\n",
       "      <th>X</th>\n",
       "      <th>Y</th>\n",
       "      <th>Z</th>\n",
       "      <th>Sound</th>\n",
       "      <th>Current (A)</th>\n",
       "      <th>target</th>\n",
       "    </tr>\n",
       "  </thead>\n",
       "  <tbody>\n",
       "    <tr>\n",
       "      <th>0</th>\n",
       "      <td>6.296115</td>\n",
       "      <td>-0.001424</td>\n",
       "      <td>0.015238</td>\n",
       "      <td>0.025438</td>\n",
       "      <td>0.005937</td>\n",
       "      <td>0.030078</td>\n",
       "      <td>modified_ball_fault</td>\n",
       "    </tr>\n",
       "    <tr>\n",
       "      <th>1</th>\n",
       "      <td>7.296115</td>\n",
       "      <td>0.034524</td>\n",
       "      <td>0.011251</td>\n",
       "      <td>0.022405</td>\n",
       "      <td>0.005657</td>\n",
       "      <td>0.031870</td>\n",
       "      <td>modified_ball_fault</td>\n",
       "    </tr>\n",
       "    <tr>\n",
       "      <th>2</th>\n",
       "      <td>8.296115</td>\n",
       "      <td>0.000582</td>\n",
       "      <td>0.019674</td>\n",
       "      <td>0.025335</td>\n",
       "      <td>0.007548</td>\n",
       "      <td>0.008611</td>\n",
       "      <td>modified_ball_fault</td>\n",
       "    </tr>\n",
       "    <tr>\n",
       "      <th>3</th>\n",
       "      <td>9.296115</td>\n",
       "      <td>0.041476</td>\n",
       "      <td>0.015786</td>\n",
       "      <td>0.021645</td>\n",
       "      <td>0.009732</td>\n",
       "      <td>0.027720</td>\n",
       "      <td>modified_ball_fault</td>\n",
       "    </tr>\n",
       "    <tr>\n",
       "      <th>4</th>\n",
       "      <td>10.296115</td>\n",
       "      <td>0.017065</td>\n",
       "      <td>0.016535</td>\n",
       "      <td>0.023329</td>\n",
       "      <td>0.007601</td>\n",
       "      <td>0.042713</td>\n",
       "      <td>modified_ball_fault</td>\n",
       "    </tr>\n",
       "  </tbody>\n",
       "</table>\n",
       "</div>"
      ],
      "text/plain": [
       "        Time         X         Y         Z     Sound  Current (A)  \\\n",
       "0   6.296115 -0.001424  0.015238  0.025438  0.005937     0.030078   \n",
       "1   7.296115  0.034524  0.011251  0.022405  0.005657     0.031870   \n",
       "2   8.296115  0.000582  0.019674  0.025335  0.007548     0.008611   \n",
       "3   9.296115  0.041476  0.015786  0.021645  0.009732     0.027720   \n",
       "4  10.296115  0.017065  0.016535  0.023329  0.007601     0.042713   \n",
       "\n",
       "                target  \n",
       "0  modified_ball_fault  \n",
       "1  modified_ball_fault  \n",
       "2  modified_ball_fault  \n",
       "3  modified_ball_fault  \n",
       "4  modified_ball_fault  "
      ]
     },
     "execution_count": 102,
     "metadata": {},
     "output_type": "execute_result"
    }
   ],
   "source": [
    "df = pd.read_csv(\"./main_df_excel.csv\")\n",
    "df.head()"
   ]
  },
  {
   "cell_type": "code",
   "execution_count": 103,
   "id": "ddb0ab68",
   "metadata": {},
   "outputs": [
    {
     "data": {
      "text/plain": [
       "array(['modified_ball_fault', 'modified_healthy',\n",
       "       'modified_inner_race_faullt', 'modified_outer_race_fault'],\n",
       "      dtype=object)"
      ]
     },
     "execution_count": 103,
     "metadata": {},
     "output_type": "execute_result"
    }
   ],
   "source": [
    "df[\"target\"].unique()"
   ]
  },
  {
   "cell_type": "code",
   "execution_count": 104,
   "id": "ea426821",
   "metadata": {},
   "outputs": [
    {
     "data": {
      "text/html": [
       "<div>\n",
       "<style scoped>\n",
       "    .dataframe tbody tr th:only-of-type {\n",
       "        vertical-align: middle;\n",
       "    }\n",
       "\n",
       "    .dataframe tbody tr th {\n",
       "        vertical-align: top;\n",
       "    }\n",
       "\n",
       "    .dataframe thead th {\n",
       "        text-align: right;\n",
       "    }\n",
       "</style>\n",
       "<table border=\"1\" class=\"dataframe\">\n",
       "  <thead>\n",
       "    <tr style=\"text-align: right;\">\n",
       "      <th></th>\n",
       "      <th>Time</th>\n",
       "      <th>X</th>\n",
       "      <th>Y</th>\n",
       "      <th>Z</th>\n",
       "      <th>Sound</th>\n",
       "      <th>Current (A)</th>\n",
       "      <th>target</th>\n",
       "    </tr>\n",
       "  </thead>\n",
       "  <tbody>\n",
       "    <tr>\n",
       "      <th>0</th>\n",
       "      <td>6.296115</td>\n",
       "      <td>-0.001424</td>\n",
       "      <td>0.015238</td>\n",
       "      <td>0.025438</td>\n",
       "      <td>0.005937</td>\n",
       "      <td>0.030078</td>\n",
       "      <td>0</td>\n",
       "    </tr>\n",
       "    <tr>\n",
       "      <th>1</th>\n",
       "      <td>7.296115</td>\n",
       "      <td>0.034524</td>\n",
       "      <td>0.011251</td>\n",
       "      <td>0.022405</td>\n",
       "      <td>0.005657</td>\n",
       "      <td>0.031870</td>\n",
       "      <td>0</td>\n",
       "    </tr>\n",
       "    <tr>\n",
       "      <th>2</th>\n",
       "      <td>8.296115</td>\n",
       "      <td>0.000582</td>\n",
       "      <td>0.019674</td>\n",
       "      <td>0.025335</td>\n",
       "      <td>0.007548</td>\n",
       "      <td>0.008611</td>\n",
       "      <td>0</td>\n",
       "    </tr>\n",
       "    <tr>\n",
       "      <th>3</th>\n",
       "      <td>9.296115</td>\n",
       "      <td>0.041476</td>\n",
       "      <td>0.015786</td>\n",
       "      <td>0.021645</td>\n",
       "      <td>0.009732</td>\n",
       "      <td>0.027720</td>\n",
       "      <td>0</td>\n",
       "    </tr>\n",
       "    <tr>\n",
       "      <th>4</th>\n",
       "      <td>10.296115</td>\n",
       "      <td>0.017065</td>\n",
       "      <td>0.016535</td>\n",
       "      <td>0.023329</td>\n",
       "      <td>0.007601</td>\n",
       "      <td>0.042713</td>\n",
       "      <td>0</td>\n",
       "    </tr>\n",
       "  </tbody>\n",
       "</table>\n",
       "</div>"
      ],
      "text/plain": [
       "        Time         X         Y         Z     Sound  Current (A)  target\n",
       "0   6.296115 -0.001424  0.015238  0.025438  0.005937     0.030078       0\n",
       "1   7.296115  0.034524  0.011251  0.022405  0.005657     0.031870       0\n",
       "2   8.296115  0.000582  0.019674  0.025335  0.007548     0.008611       0\n",
       "3   9.296115  0.041476  0.015786  0.021645  0.009732     0.027720       0\n",
       "4  10.296115  0.017065  0.016535  0.023329  0.007601     0.042713       0"
      ]
     },
     "execution_count": 104,
     "metadata": {},
     "output_type": "execute_result"
    }
   ],
   "source": [
    "## Change the column names to numerical values\n",
    "dict = {'modified_ball_fault':0 ,\n",
    "        'modified_healthy':1,\n",
    "        'modified_inner_race_faullt':2,\n",
    "        'modified_outer_race_fault':3}\n",
    "df[\"target\"] = df[\"target\"].map(dict)\n",
    "\n",
    "df.head()"
   ]
  },
  {
   "cell_type": "markdown",
   "id": "8faa8476",
   "metadata": {},
   "source": [
    "---\n",
    "\n",
    "## Data Preprocessing and Exploratory Data Analysis (EDA)"
   ]
  },
  {
   "cell_type": "code",
   "execution_count": 105,
   "id": "ec77effc",
   "metadata": {},
   "outputs": [
    {
     "data": {
      "text/plain": [
       "Index(['Time', 'X', 'Y', 'Z', 'Sound', 'Current (A)', 'target'], dtype='object')"
      ]
     },
     "execution_count": 105,
     "metadata": {},
     "output_type": "execute_result"
    }
   ],
   "source": [
    "df.columns"
   ]
  },
  {
   "cell_type": "code",
   "execution_count": 106,
   "id": "8a47b970",
   "metadata": {},
   "outputs": [
    {
     "data": {
      "text/html": [
       "<div>\n",
       "<style scoped>\n",
       "    .dataframe tbody tr th:only-of-type {\n",
       "        vertical-align: middle;\n",
       "    }\n",
       "\n",
       "    .dataframe tbody tr th {\n",
       "        vertical-align: top;\n",
       "    }\n",
       "\n",
       "    .dataframe thead th {\n",
       "        text-align: right;\n",
       "    }\n",
       "</style>\n",
       "<table border=\"1\" class=\"dataframe\">\n",
       "  <thead>\n",
       "    <tr style=\"text-align: right;\">\n",
       "      <th></th>\n",
       "      <th>count</th>\n",
       "      <th>mean</th>\n",
       "      <th>std</th>\n",
       "      <th>min</th>\n",
       "      <th>25%</th>\n",
       "      <th>50%</th>\n",
       "      <th>75%</th>\n",
       "      <th>max</th>\n",
       "    </tr>\n",
       "  </thead>\n",
       "  <tbody>\n",
       "    <tr>\n",
       "      <th>Time</th>\n",
       "      <td>958571.0</td>\n",
       "      <td>1003.527359</td>\n",
       "      <td>577.056312</td>\n",
       "      <td>0.022249</td>\n",
       "      <td>503.801845</td>\n",
       "      <td>1003.050612</td>\n",
       "      <td>1503.235449</td>\n",
       "      <td>2007.966856</td>\n",
       "    </tr>\n",
       "    <tr>\n",
       "      <th>X</th>\n",
       "      <td>958571.0</td>\n",
       "      <td>0.069774</td>\n",
       "      <td>0.064204</td>\n",
       "      <td>-0.098002</td>\n",
       "      <td>0.021853</td>\n",
       "      <td>0.046660</td>\n",
       "      <td>0.113848</td>\n",
       "      <td>0.208861</td>\n",
       "    </tr>\n",
       "    <tr>\n",
       "      <th>Y</th>\n",
       "      <td>958571.0</td>\n",
       "      <td>0.014652</td>\n",
       "      <td>0.008687</td>\n",
       "      <td>-0.009308</td>\n",
       "      <td>0.011029</td>\n",
       "      <td>0.015136</td>\n",
       "      <td>0.019753</td>\n",
       "      <td>0.088734</td>\n",
       "    </tr>\n",
       "    <tr>\n",
       "      <th>Z</th>\n",
       "      <td>958571.0</td>\n",
       "      <td>0.017491</td>\n",
       "      <td>0.005482</td>\n",
       "      <td>-0.016535</td>\n",
       "      <td>0.014158</td>\n",
       "      <td>0.017708</td>\n",
       "      <td>0.021340</td>\n",
       "      <td>0.042950</td>\n",
       "    </tr>\n",
       "    <tr>\n",
       "      <th>Sound</th>\n",
       "      <td>958571.0</td>\n",
       "      <td>0.025827</td>\n",
       "      <td>0.030001</td>\n",
       "      <td>-0.170868</td>\n",
       "      <td>0.007332</td>\n",
       "      <td>0.015239</td>\n",
       "      <td>0.044586</td>\n",
       "      <td>1.612682</td>\n",
       "    </tr>\n",
       "    <tr>\n",
       "      <th>Current (A)</th>\n",
       "      <td>958571.0</td>\n",
       "      <td>0.028604</td>\n",
       "      <td>0.016078</td>\n",
       "      <td>-0.106677</td>\n",
       "      <td>0.014321</td>\n",
       "      <td>0.028699</td>\n",
       "      <td>0.041058</td>\n",
       "      <td>0.094017</td>\n",
       "    </tr>\n",
       "    <tr>\n",
       "      <th>target</th>\n",
       "      <td>958571.0</td>\n",
       "      <td>1.499505</td>\n",
       "      <td>1.118477</td>\n",
       "      <td>0.000000</td>\n",
       "      <td>0.000000</td>\n",
       "      <td>1.000000</td>\n",
       "      <td>3.000000</td>\n",
       "      <td>3.000000</td>\n",
       "    </tr>\n",
       "  </tbody>\n",
       "</table>\n",
       "</div>"
      ],
      "text/plain": [
       "                count         mean         std       min         25%  \\\n",
       "Time         958571.0  1003.527359  577.056312  0.022249  503.801845   \n",
       "X            958571.0     0.069774    0.064204 -0.098002    0.021853   \n",
       "Y            958571.0     0.014652    0.008687 -0.009308    0.011029   \n",
       "Z            958571.0     0.017491    0.005482 -0.016535    0.014158   \n",
       "Sound        958571.0     0.025827    0.030001 -0.170868    0.007332   \n",
       "Current (A)  958571.0     0.028604    0.016078 -0.106677    0.014321   \n",
       "target       958571.0     1.499505    1.118477  0.000000    0.000000   \n",
       "\n",
       "                     50%          75%          max  \n",
       "Time         1003.050612  1503.235449  2007.966856  \n",
       "X               0.046660     0.113848     0.208861  \n",
       "Y               0.015136     0.019753     0.088734  \n",
       "Z               0.017708     0.021340     0.042950  \n",
       "Sound           0.015239     0.044586     1.612682  \n",
       "Current (A)     0.028699     0.041058     0.094017  \n",
       "target          1.000000     3.000000     3.000000  "
      ]
     },
     "execution_count": 106,
     "metadata": {},
     "output_type": "execute_result"
    }
   ],
   "source": [
    "## Basic data Values\n",
    "\n",
    "df.describe().T"
   ]
  },
  {
   "cell_type": "code",
   "execution_count": 107,
   "id": "27fe0cd1",
   "metadata": {},
   "outputs": [
    {
     "name": "stdout",
     "output_type": "stream",
     "text": [
      "<class 'pandas.core.frame.DataFrame'>\n",
      "RangeIndex: 958571 entries, 0 to 958570\n",
      "Data columns (total 7 columns):\n",
      " #   Column       Non-Null Count   Dtype  \n",
      "---  ------       --------------   -----  \n",
      " 0   Time         958571 non-null  float64\n",
      " 1   X            958571 non-null  float64\n",
      " 2   Y            958571 non-null  float64\n",
      " 3   Z            958571 non-null  float64\n",
      " 4   Sound        958571 non-null  float64\n",
      " 5   Current (A)  958571 non-null  float64\n",
      " 6   target       958571 non-null  int64  \n",
      "dtypes: float64(6), int64(1)\n",
      "memory usage: 51.2 MB\n"
     ]
    }
   ],
   "source": [
    "## Basic info on data\n",
    "\n",
    "df.info()"
   ]
  },
  {
   "cell_type": "code",
   "execution_count": 108,
   "id": "71d0953d",
   "metadata": {},
   "outputs": [
    {
     "data": {
      "text/plain": [
       "Time           0\n",
       "X              0\n",
       "Y              0\n",
       "Z              0\n",
       "Sound          0\n",
       "Current (A)    0\n",
       "target         0\n",
       "dtype: int64"
      ]
     },
     "execution_count": 108,
     "metadata": {},
     "output_type": "execute_result"
    }
   ],
   "source": [
    "## Check for null Values\n",
    "\n",
    "df.isna().sum()"
   ]
  },
  {
   "cell_type": "code",
   "execution_count": 109,
   "id": "2bb9ce14",
   "metadata": {},
   "outputs": [
    {
     "data": {
      "text/plain": [
       "0"
      ]
     },
     "execution_count": 109,
     "metadata": {},
     "output_type": "execute_result"
    }
   ],
   "source": [
    "## Check for duplicates values\n",
    "df.duplicated().sum()"
   ]
  },
  {
   "cell_type": "code",
   "execution_count": 110,
   "id": "afb2d2cd",
   "metadata": {},
   "outputs": [
    {
     "data": {
      "text/plain": [
       "0    239880\n",
       "1    239880\n",
       "3    239880\n",
       "2    238931\n",
       "Name: target, dtype: int64"
      ]
     },
     "execution_count": 110,
     "metadata": {},
     "output_type": "execute_result"
    }
   ],
   "source": [
    "## Check for class imbalance \n",
    "\n",
    "df[\"target\"].value_counts()"
   ]
  },
  {
   "cell_type": "code",
   "execution_count": 111,
   "id": "f50c9dea",
   "metadata": {},
   "outputs": [
    {
     "data": {
      "image/png": "[encoded data removed]",
      "text/plain": [
       "<Figure size 640x480 with 1 Axes>"
      ]
     },
     "metadata": {},
     "output_type": "display_data"
    }
   ],
   "source": [
    "## Visualize target values\n",
    "\n",
    "sns.countplot(data = df ,x = \"target\" ,)\n",
    "plt.title(\"Target Countplot\")\n",
    "plt.xticks(rotation = 90);"
   ]
  },
  {
   "cell_type": "code",
   "execution_count": 112,
   "id": "662d3c52",
   "metadata": {},
   "outputs": [
    {
     "data": {
      "text/plain": [
       "<Axes: >"
      ]
     },
     "execution_count": 112,
     "metadata": {},
     "output_type": "execute_result"
    },
    {
     "data": {
      "image/png": "[encoded data removed]",
      "text/plain": [
       "<Figure size 640x480 with 2 Axes>"
      ]
     },
     "metadata": {},
     "output_type": "display_data"
    }
   ],
   "source": [
    "## Check for correlation between classes\n",
    "df.corr(numeric_only=True)\n",
    "sns.heatmap(df.corr(numeric_only=True) ,annot = True)"
   ]
  },
  {
   "cell_type": "code",
   "execution_count": 113,
   "id": "760185e9",
   "metadata": {},
   "outputs": [
    {
     "data": {
      "text/plain": [
       "Sound          0.320760\n",
       "Current (A)    0.245597\n",
       "Time          -0.000497\n",
       "Y             -0.103531\n",
       "X             -0.158062\n",
       "Z             -0.668847\n",
       "Name: target, dtype: float64"
      ]
     },
     "execution_count": 113,
     "metadata": {},
     "output_type": "execute_result"
    }
   ],
   "source": [
    "## check the correlation between features\n",
    "df.corr(numeric_only=True)[\"target\"].sort_values(ascending=False)[1:]"
   ]
  },
  {
   "cell_type": "code",
   "execution_count": 114,
   "id": "451c2e67",
   "metadata": {},
   "outputs": [],
   "source": [
    "# sns.pairplot(data = df ,hue = \"target\")"
   ]
  },
  {
   "cell_type": "markdown",
   "id": "dbeb5ad6",
   "metadata": {},
   "source": [
    "\n",
    "---\n",
    "# Split the Data in train test split\n",
    "\n"
   ]
  },
  {
   "cell_type": "code",
   "execution_count": 115,
   "id": "b31d0068",
   "metadata": {},
   "outputs": [],
   "source": [
    "from sklearn.model_selection import train_test_split"
   ]
  },
  {
   "cell_type": "code",
   "execution_count": 117,
   "id": "f2f1cc26",
   "metadata": {},
   "outputs": [],
   "source": [
    "shuffled_df = df.sample(frac=1).reset_index(drop=True)\n",
    "\n",
    "x = shuffled_df.drop([\"target\",\"Time\"] ,axis = 1)\n",
    "y = shuffled_df[\"target\"]\n",
    "\n",
    "x_train ,x_test ,y_train ,y_test = train_test_split(x,y,test_size=0.05 ,random_state=42)"
   ]
  },
  {
   "cell_type": "markdown",
   "id": "8e049846",
   "metadata": {},
   "source": [
    "---\n",
    "\n",
    "# Model Training "
   ]
  },
  {
   "cell_type": "code",
   "execution_count": 118,
   "id": "a2cb17bf",
   "metadata": {},
   "outputs": [],
   "source": [
    "from sklearn.svm import SVC"
   ]
  },
  {
   "cell_type": "code",
   "execution_count": 119,
   "id": "0c3ad987",
   "metadata": {},
   "outputs": [],
   "source": [
    "model = SVC()"
   ]
  },
  {
   "cell_type": "code",
   "execution_count": 120,
   "id": "006b5189",
   "metadata": {},
   "outputs": [
    {
     "data": {
      "text/html": [
       "<style>#sk-container-id-3 {color: black;}#sk-container-id-3 pre{padding: 0;}#sk-container-id-3 div.sk-toggleable {background-color: white;}#sk-container-id-3 label.sk-toggleable__label {cursor: pointer;display: block;width: 100%;margin-bottom: 0;padding: 0.3em;box-sizing: border-box;text-align: center;}#sk-container-id-3 label.sk-toggleable__label-arrow:before {content: \"▸\";float: left;margin-right: 0.25em;color: #696969;}#sk-container-id-3 label.sk-toggleable__label-arrow:hover:before {color: black;}#sk-container-id-3 div.sk-estimator:hover label.sk-toggleable__label-arrow:before {color: black;}#sk-container-id-3 div.sk-toggleable__content {max-height: 0;max-width: 0;overflow: hidden;text-align: left;background-color: #f0f8ff;}#sk-container-id-3 div.sk-toggleable__content pre {margin: 0.2em;color: black;border-radius: 0.25em;background-color: #f0f8ff;}#sk-container-id-3 input.sk-toggleable__control:checked~div.sk-toggleable__content {max-height: 200px;max-width: 100%;overflow: auto;}#sk-container-id-3 input.sk-toggleable__control:checked~label.sk-toggleable__label-arrow:before {content: \"▾\";}#sk-container-id-3 div.sk-estimator input.sk-toggleable__control:checked~label.sk-toggleable__label {background-color: #d4ebff;}#sk-container-id-3 div.sk-label input.sk-toggleable__control:checked~label.sk-toggleable__label {background-color: #d4ebff;}#sk-container-id-3 input.sk-hidden--visually {border: 0;clip: rect(1px 1px 1px 1px);clip: rect(1px, 1px, 1px, 1px);height: 1px;margin: -1px;overflow: hidden;padding: 0;position: absolute;width: 1px;}#sk-container-id-3 div.sk-estimator {font-family: monospace;background-color: #f0f8ff;border: 1px dotted black;border-radius: 0.25em;box-sizing: border-box;margin-bottom: 0.5em;}#sk-container-id-3 div.sk-estimator:hover {background-color: #d4ebff;}#sk-container-id-3 div.sk-parallel-item::after {content: \"\";width: 100%;border-bottom: 1px solid gray;flex-grow: 1;}#sk-container-id-3 div.sk-label:hover label.sk-toggleable__label {background-color: #d4ebff;}#sk-container-id-3 div.sk-serial::before {content: \"\";position: absolute;border-left: 1px solid gray;box-sizing: border-box;top: 0;bottom: 0;left: 50%;z-index: 0;}#sk-container-id-3 div.sk-serial {display: flex;flex-direction: column;align-items: center;background-color: white;padding-right: 0.2em;padding-left: 0.2em;position: relative;}#sk-container-id-3 div.sk-item {position: relative;z-index: 1;}#sk-container-id-3 div.sk-parallel {display: flex;align-items: stretch;justify-content: center;background-color: white;position: relative;}#sk-container-id-3 div.sk-item::before, #sk-container-id-3 div.sk-parallel-item::before {content: \"\";position: absolute;border-left: 1px solid gray;box-sizing: border-box;top: 0;bottom: 0;left: 50%;z-index: -1;}#sk-container-id-3 div.sk-parallel-item {display: flex;flex-direction: column;z-index: 1;position: relative;background-color: white;}#sk-container-id-3 div.sk-parallel-item:first-child::after {align-self: flex-end;width: 50%;}#sk-container-id-3 div.sk-parallel-item:last-child::after {align-self: flex-start;width: 50%;}#sk-container-id-3 div.sk-parallel-item:only-child::after {width: 0;}#sk-container-id-3 div.sk-dashed-wrapped {border: 1px dashed gray;margin: 0 0.4em 0.5em 0.4em;box-sizing: border-box;padding-bottom: 0.4em;background-color: white;}#sk-container-id-3 div.sk-label label {font-family: monospace;font-weight: bold;display: inline-block;line-height: 1.2em;}#sk-container-id-3 div.sk-label-container {text-align: center;}#sk-container-id-3 div.sk-container {/* jupyter's `normalize.less` sets `[hidden] { display: none; }` but bootstrap.min.css set `[hidden] { display: none !important; }` so we also need the `!important` here to be able to override the default hidden behavior on the sphinx rendered scikit-learn.org. See: https://github.com/scikit-learn/scikit-learn/issues/21755 */display: inline-block !important;position: relative;}#sk-container-id-3 div.sk-text-repr-fallback {display: none;}</style><div id=\"sk-container-id-3\" class=\"sk-top-container\"><div class=\"sk-text-repr-fallback\"><pre>SVC()</pre><b>In a Jupyter environment, please rerun this cell to show the HTML representation or trust the notebook. <br />On GitHub, the HTML representation is unable to render, please try loading this page with nbviewer.org.</b></div><div class=\"sk-container\" hidden><div class=\"sk-item\"><div class=\"sk-estimator sk-toggleable\"><input class=\"sk-toggleable__control sk-hidden--visually\" id=\"sk-estimator-id-3\" type=\"checkbox\" checked><label for=\"sk-estimator-id-3\" class=\"sk-toggleable__label sk-toggleable__label-arrow\">SVC</label><div class=\"sk-toggleable__content\"><pre>SVC()</pre></div></div></div></div></div>"
      ],
      "text/plain": [
       "SVC()"
      ]
     },
     "execution_count": 120,
     "metadata": {},
     "output_type": "execute_result"
    }
   ],
   "source": [
    "model.fit(x_train,y_train)"
   ]
  },
  {
   "cell_type": "code",
   "execution_count": 121,
   "id": "842257ef",
   "metadata": {},
   "outputs": [
    {
     "data": {
      "text/plain": [
       "0.9986855557178326"
      ]
     },
     "execution_count": 121,
     "metadata": {},
     "output_type": "execute_result"
    }
   ],
   "source": [
    "model.score(x_test,y_test)"
   ]
  },
  {
   "cell_type": "markdown",
   "id": "2a858084",
   "metadata": {},
   "source": [
    "---\n",
    "# Model evaluation"
   ]
  },
  {
   "cell_type": "code",
   "execution_count": 122,
   "id": "80ba8211",
   "metadata": {},
   "outputs": [],
   "source": [
    "from sklearn.metrics import accuracy_score ,confusion_matrix ,classification_report, ConfusionMatrixDisplay"
   ]
  },
  {
   "cell_type": "code",
   "execution_count": 123,
   "id": "02e5b382",
   "metadata": {},
   "outputs": [
    {
     "data": {
      "text/plain": [
       "array([3, 2, 3, ..., 3, 3, 3], dtype=int64)"
      ]
     },
     "execution_count": 123,
     "metadata": {},
     "output_type": "execute_result"
    }
   ],
   "source": [
    "y_preds = model.predict(x_test)\n",
    "y_preds"
   ]
  },
  {
   "cell_type": "code",
   "execution_count": 124,
   "id": "8aeb7550",
   "metadata": {},
   "outputs": [
    {
     "name": "stdout",
     "output_type": "stream",
     "text": [
      "Accuracy: 1.00\n",
      "Classification Report:\n",
      "               precision    recall  f1-score   support\n",
      "\n",
      "           0       1.00      1.00      1.00     11969\n",
      "           1       1.00      1.00      1.00     11877\n",
      "           2       1.00      1.00      1.00     11985\n",
      "           3       1.00      1.00      1.00     12098\n",
      "\n",
      "    accuracy                           1.00     47929\n",
      "   macro avg       1.00      1.00      1.00     47929\n",
      "weighted avg       1.00      1.00      1.00     47929\n",
      "\n"
     ]
    }
   ],
   "source": [
    "accuracy = accuracy_score(y_test, y_preds)\n",
    "print(f'Accuracy: {accuracy:.2f}')\n",
    "\n",
    "# Calculate additional classification metrics\n",
    "report = classification_report(y_test, y_preds)\n",
    "print('Classification Report:\\n', report)"
   ]
  },
  {
   "cell_type": "code",
   "execution_count": 125,
   "id": "7b2bd4d5",
   "metadata": {},
   "outputs": [
    {
     "data": {
      "text/plain": [
       "<sklearn.metrics._plot.confusion_matrix.ConfusionMatrixDisplay at 0x1a3b0c285b0>"
      ]
     },
     "execution_count": 125,
     "metadata": {},
     "output_type": "execute_result"
    },
    {
     "data": {
      "image/png": "[encoded data removed]",
      "text/plain": [
       "<Figure size 640x480 with 2 Axes>"
      ]
     },
     "metadata": {},
     "output_type": "display_data"
    }
   ],
   "source": [
    "ConfusionMatrixDisplay(confusion_matrix(y_test, y_preds)).plot()"
   ]
  },
  {
   "cell_type": "markdown",
   "id": "f8cb4507",
   "metadata": {},
   "source": [
    "---\n",
    "## Saving the model"
   ]
  },
  {
   "cell_type": "code",
   "execution_count": 126,
   "id": "26b11524",
   "metadata": {},
   "outputs": [
    {
     "data": {
      "text/plain": [
       "['trainedModel.pkl']"
      ]
     },
     "execution_count": 126,
     "metadata": {},
     "output_type": "execute_result"
    }
   ],
   "source": [
    "import joblib\n",
    "joblib.dump((model,dict) ,\"trainedModel.pkl\" )"
   ]
  },
  {
   "cell_type": "markdown",
   "id": "986bb9dd",
   "metadata": {},
   "source": [
    "# The model is performing wonderfully with approximately 100 percent accuracy"
   ]
  },
  {
   "cell_type": "markdown",
   "id": "94238d16",
   "metadata": {},
   "source": [
    "---\n",
    "# Model deployment"
   ]
  },
  {
   "cell_type": "code",
   "execution_count": 127,
   "id": "0c5387ce",
   "metadata": {},
   "outputs": [
    {
     "data": {
      "text/plain": [
       "{'modified_ball_fault': 0,\n",
       " 'modified_healthy': 1,\n",
       " 'modified_inner_race_faullt': 2,\n",
       " 'modified_outer_race_fault': 3}"
      ]
     },
     "execution_count": 127,
     "metadata": {},
     "output_type": "execute_result"
    }
   ],
   "source": [
    "import joblib \n",
    "\n",
    "trainedModel,dictValue = joblib.load(\"./trainedModel.pkl\")\n",
    "dictValue"
   ]
  },
  {
   "cell_type": "code",
   "execution_count": 128,
   "id": "8748a69a",
   "metadata": {},
   "outputs": [
    {
     "data": {
      "text/plain": [
       "{0: 'modified_ball_fault',\n",
       " 1: 'modified_healthy',\n",
       " 2: 'modified_inner_race_faullt',\n",
       " 3: 'modified_outer_race_fault'}"
      ]
     },
     "execution_count": 128,
     "metadata": {},
     "output_type": "execute_result"
    }
   ],
   "source": [
    "## Create a dictionary of clases\n",
    "dictVal = {j:i for i,j in dictValue.items()}\n",
    "dictVal"
   ]
  },
  {
   "cell_type": "code",
   "execution_count": 96,
   "id": "989365fe",
   "metadata": {},
   "outputs": [
    {
     "name": "stdout",
     "output_type": "stream",
     "text": [
      "X value: -0.001424\n",
      "Y value: 0.015238\t\n",
      "Z value: 0.025438\n",
      "Sound value: 0.005937\n",
      "Current (A) value: 0.030078\n",
      "\n",
      "The fault is :  modified_ball_fault\n"
     ]
    }
   ],
   "source": [
    "#### Get input values\n",
    "X = float(input(\"X value: \"))\n",
    "Y = float(input(\"Y value: \"))\n",
    "Z = float(input(\"Z value: \"))\n",
    "Sound = float(input(\"Sound value: \"))\n",
    "Current = float(input(\"Current (A) value: \" ))\n",
    "\n",
    "# Create a DataFrame with input values\n",
    "data = {\"X\": [X], \"Y\": [Y], \"Z\": [Z], \"Sound\": [Sound] ,\"Current (A)\": [Current]}\n",
    "df0 = pd.DataFrame(data)\n",
    "\n",
    "# Display the Prediction\n",
    "prediction = trainedModel.predict(df0)\n",
    "print( \"\\nThe fault is : \" ,dictVal[prediction[0]] )\n"
   ]
  },
  {
   "cell_type": "markdown",
   "id": "093b77a1",
   "metadata": {},
   "source": [
    "df"
   ]
  },
  {
   "cell_type": "code",
   "execution_count": 100,
   "id": "695cad44",
   "metadata": {},
   "outputs": [
    {
     "data": {
      "text/plain": [
       "Time                      6.296115\n",
       "X                        -0.001424\n",
       "Y                         0.015238\n",
       "Z                         0.025438\n",
       "Sound                     0.005937\n",
       "Current (A)               0.030078\n",
       "target         modified_ball_fault\n",
       "Name: 0, dtype: object"
      ]
     },
     "execution_count": 100,
     "metadata": {},
     "output_type": "execute_result"
    }
   ],
   "source": [
    "## check original data\n",
    "df.iloc[0]"
   ]
  },
  {
   "cell_type": "code",
   "execution_count": null,
   "id": "77b265ed",
   "metadata": {},
   "outputs": [],
   "source": [
    "\n"
   ]
  },
  {
   "cell_type": "code",
   "execution_count": null,
   "id": "3a157bff",
   "metadata": {},
   "outputs": [],
   "source": []
  }
 ],
 "metadata": {
  "kernelspec": {
   "display_name": "Python 3 (ipykernel)",
   "language": "python",
   "name": "python3"
  },
  "language_info": {
   "codemirror_mode": {
    "name": "ipython",
    "version": 3
   },
   "file_extension": ".py",
   "mimetype": "text/x-python",
   "name": "python",
   "nbconvert_exporter": "python",
   "pygments_lexer": "ipython3",
   "version": "3.10.9"
  }
 },
 "nbformat": 4,
 "nbformat_minor": 5
}
